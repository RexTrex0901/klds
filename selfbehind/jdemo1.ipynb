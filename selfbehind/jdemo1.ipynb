{
 "cells": [
  {
   "cell_type": "code",
   "execution_count": 20,
   "metadata": {
    "collapsed": true
   },
   "outputs": [
    {
     "data": {
      "text/plain": "<module 'utils' from 'D:\\\\Pycharm\\\\python01\\\\utils.py'>"
     },
     "execution_count": 20,
     "metadata": {},
     "output_type": "execute_result"
    }
   ],
   "source": [
    "import importlib\n",
    "import re\n",
    "\n",
    "import utils\n",
    "import models\n",
    "\n",
    "importlib.reload(utils)\n"
   ]
  },
  {
   "cell_type": "markdown",
   "source": [
    "# 取得 excel 資料"
   ],
   "metadata": {
    "collapsed": false,
    "pycharm": {
     "name": "#%% md\n"
    }
   }
  },
  {
   "cell_type": "code",
   "execution_count": 21,
   "outputs": [],
   "source": [
    "df = utils.get_xlsx()"
   ],
   "metadata": {
    "collapsed": false,
    "pycharm": {
     "name": "#%%\n"
    }
   }
  },
  {
   "cell_type": "markdown",
   "source": [
    "# 爬蟲資料 Filter"
   ],
   "metadata": {
    "collapsed": false,
    "pycharm": {
     "name": "#%% md\n"
    }
   }
  },
  {
   "cell_type": "code",
   "execution_count": 22,
   "outputs": [],
   "source": [
    "product_id = '802969'"
   ],
   "metadata": {
    "collapsed": false,
    "pycharm": {
     "name": "#%%\n"
    }
   }
  },
  {
   "cell_type": "code",
   "execution_count": 23,
   "outputs": [
    {
     "data": {
      "text/plain": "['芒果萃取物',\n '香蕉萃取物',\n '香橙萃取物',\n '百香果萃取物',\n '番石榴萃取物',\n '萃取物',\n '乳桿菌',\n '乾酪乳桿菌',\n '副乾酪乳桿菌',\n '瑞士乳桿菌',\n '植物乳桿菌',\n 'informativetext1',\n '唾液乳桿菌',\n '嗜酸乳桿菌',\n '雙歧桿菌',\n '雙岐桿菌',\n '兒童',\n '奶油粉',\n '乳化劑',\n '水果混合萃取物粉',\n '乳酸菌混合粉',\n '椰菜萃取物',\n '南瓜萃取物',\n '青瓜萃取物',\n '酸度調節劑',\n '調味劑',\n '植物',\n '益生菌',\n '免疫防禦能力',\n '腸道敏感',\n '排便',\n '青椒萃取物',\n '紅菜頭萃取物',\n '西蘭花萃取物',\n '香芹萃取物',\n '羽衣甘藍萃取物',\n '瑞士',\n '青椒萃取物丶紅菜頭萃取物',\n '兒童腸胃',\n 'ingredients',\n 'ii',\n '香橙濃縮粉',\n '抗氧化劑',\n '馬鈴薯澱粉',\n 'i',\n '腸道健康',\n '葡萄糖',\n '木糖醇',\n '單位',\n '澱粉糖漿',\n '鼠李糖乳桿菌',\n '脫脂奶粉',\n '加工棕櫚油',\n '萃取物丶番石榴萃取物',\n '南瓜萃取物丶椰菜萃取物丶水芹菜萃取物',\n '甘藍萃取物',\n '萃取物丶紅椒萃取物',\n '蔬菜混合萃取物粉',\n '牛初乳粉',\n '麥芽',\n '甘油脂肪酸酯',\n 'lactobacillus plantarum',\n '白鈉',\n '果糖',\n 'red pepper extract',\n 'green pepper extract',\n 'parsley extract',\n 'broccoli extract',\n 'kale extract',\n 'red beet extract',\n 'buttercup extract',\n 'cabbage extract',\n 'sweet pumpkin extract',\n 'cucumber extract',\n '酪蛋白鈉丶乳化劑',\n '果糖丶調味劑',\n 'bifidobacterium bifidum',\n '抗壞血酸〉丶牛初乳粉',\n '萃取物粉',\n 'storagecondition',\n 'informativetext1 strengthen gastrointestinal health.',\n 'lactobacillus mixed powder',\n 'packsize 30',\n 'lactobacillus acidophilus',\n 'uses',\n '鹽酸吡哆辛',\n '鹽酸硫胺',\n '核黃素',\n '丶氧化鋅丶鹽酸吡哆辛丶核黃素丶鹽酸硫胺',\n '岐',\n '唾液',\n '陰涼處',\n '水芹菜',\n 'informativetext3 korea',\n 'informativetext3',\n 'lactobacillus casei',\n '澱粉',\n '水丶牛奶',\n '流質食物',\n '牛奶',\n '紅椒',\n '氧化鋅',\n 'lactobacillus fermentum',\n 'bifidobacterium breve',\n 'lactobacillus salivarius',\n 'lactobacillus rhamnosus',\n 'and glycerin esters of fatty acids',\n '澱粉糖漿丶加工棕櫚油',\n 'mixed vegetable extract powder',\n 'mixed fruit extract',\n 'packsize 30 sachets',\n 'below 25',\n 'skim milk powder',\n '馬鈴薯',\n '飲用水',\n '蔬菜',\n 'acidity regulator',\n 'antioxidant',\n 'orange, mango',\n 'thiamine hydrochloride',\n 'relieve sensitivity and indigestion',\n 'each sachet contains: 12 kinds of probiotics: 10 billion cfu',\n '韓國',\n '氧化劑',\n 'sodium caseinate',\n 'colostrum powder',\n 'ascorbic acid',\n 'cauliflower extract',\n 'riboflavin',\n 'guava and banana',\n 'passionfruit',\n 'zinc oxide',\n 'pyridoxine hydrochloride',\n 'take 1-2 sachets directly daily',\n 'anticaking agent',\n 'lactobacillus helveticus and potato starch',\n 'lactobacillus paracasei',\n 'orange extract concentrated powder',\n 'emulsifier',\n 'starch syrup',\n 'vegetable cream powder',\n 'streptococcus thermophiles',\n 'bifidobacterium longum',\n 'flavor',\n 'fructooligosaccharide',\n 'dextrin',\n 'processed palm oil',\n 'xylitol',\n '12',\n '100億',\n '331',\n '340',\n '452',\n '460',\n '551',\n '330',\n '30',\n '25',\n '1',\n '2',\n '100亿',\n '10',\n '331340',\n '兩',\n '两']"
     },
     "execution_count": 23,
     "metadata": {},
     "output_type": "execute_result"
    }
   ],
   "source": [
    "target = utils.get_product_tags_by_id(df, product_id)\n",
    "tags = target['Tag'].to_list()\n",
    "tags"
   ],
   "metadata": {
    "collapsed": false,
    "pycharm": {
     "name": "#%%\n"
    }
   }
  },
  {
   "cell_type": "code",
   "execution_count": 24,
   "outputs": [],
   "source": [
    "product = utils.get_product_by_id(product_id)"
   ],
   "metadata": {
    "collapsed": false,
    "pycharm": {
     "name": "#%%\n"
    }
   }
  },
  {
   "cell_type": "code",
   "execution_count": 25,
   "outputs": [
    {
     "name": "stdout",
     "output_type": "stream",
     "text": [
      "脫脂奶粉\n",
      "each sachet contains: 12 kinds of probiotics: 10 billion cfu\n",
      "uses\n",
      "broccoli extract\n",
      "lactobacillus plantarum\n",
      "riboflavin\n",
      "lactobacillus mixed powder\n",
      "水丶牛奶\n",
      "sweet pumpkin extract\n",
      "kale extract\n",
      "丶氧化鋅丶鹽酸吡哆辛丶核黃素丶鹽酸硫胺\n",
      "colostrum powder\n",
      "informativetext3 korea\n",
      "ascorbic acid\n",
      "orange extract concentrated powder\n",
      "take 1-2 sachets directly daily\n",
      "passionfruit\n",
      "抗壞血酸〉丶牛初乳粉\n",
      "red pepper extract\n",
      "informativetext1 strengthen gastrointestinal health.\n",
      "parsley extract\n",
      "cabbage extract\n",
      "果糖丶調味劑\n",
      "bifidobacterium breve\n",
      "orange, mango\n",
      "青椒萃取物丶紅菜頭萃取物\n",
      "萃取物丶番石榴萃取物\n",
      "南瓜萃取物丶椰菜萃取物丶水芹菜萃取物\n",
      "bifidobacterium longum\n",
      "lactobacillus salivarius\n",
      "zinc oxide\n",
      "vegetable cream powder\n",
      "lactobacillus acidophilus\n",
      "331340\n",
      "dextrin\n",
      "informativetext3\n",
      "skim milk powder\n",
      "cucumber extract\n",
      "mixed vegetable extract powder\n",
      "萃取物丶紅椒萃取物\n",
      "packsize 30\n",
      "informativetext1\n",
      "green pepper extract\n",
      "lactobacillus rhamnosus\n",
      "pyridoxine hydrochloride\n",
      "streptococcus thermophiles\n",
      "starch syrup\n",
      "processed palm oil\n",
      "relieve sensitivity and indigestion\n",
      "lactobacillus helveticus and potato starch\n",
      "两\n",
      "emulsifier\n",
      "100亿\n",
      "storagecondition\n",
      "red beet extract\n",
      "buttercup extract\n",
      "antioxidant\n",
      "below 25\n",
      "bifidobacterium bifidum\n",
      "cauliflower extract\n",
      "lactobacillus paracasei\n",
      "sodium caseinate\n",
      "xylitol\n",
      "酪蛋白鈉丶乳化劑\n",
      "lactobacillus casei\n",
      "anticaking agent\n",
      "lactobacillus fermentum\n",
      "ingredients\n",
      "fructooligosaccharide\n",
      "and glycerin esters of fatty acids\n",
      "guava and banana\n",
      "flavor\n",
      "澱粉糖漿丶加工棕櫚油\n",
      "mixed fruit extract\n",
      "acidity regulator\n",
      "thiamine hydrochloride\n",
      "packsize 30 sachets\n"
     ]
    }
   ],
   "source": [
    "# display in\n",
    "context = product.context\n",
    "filter_tags = utils.get_tags_in_context(tags, context)\n",
    "utils.show_diff_tags(tags, filter_tags)"
   ],
   "metadata": {
    "collapsed": false,
    "pycharm": {
     "name": "#%%\n"
    }
   }
  },
  {
   "cell_type": "markdown",
   "source": [
    "# 顯示tag 在哪個欄位"
   ],
   "metadata": {
    "collapsed": false,
    "pycharm": {
     "name": "#%% md\n"
    }
   }
  },
  {
   "cell_type": "code",
   "execution_count": 26,
   "outputs": [
    {
     "name": "stdout",
     "output_type": "stream",
     "text": [
      "芒果萃取物 desc\n",
      "香蕉萃取物 desc\n",
      "香橙萃取物 desc\n",
      "百香果萃取物 desc\n",
      "番石榴萃取物 desc\n",
      "萃取物 desc\n",
      "乳桿菌 desc\n",
      "乾酪乳桿菌 desc\n",
      "副乾酪乳桿菌 desc\n",
      "瑞士乳桿菌 desc\n",
      "植物乳桿菌 desc\n",
      "唾液乳桿菌 desc\n",
      "嗜酸乳桿菌 desc\n",
      "雙歧桿菌 desc\n",
      "雙岐桿菌 desc\n",
      "兒童 breadcrumbs\n",
      "兒童 desc\n",
      "奶油粉 desc\n",
      "乳化劑 desc\n",
      "水果混合萃取物粉 desc\n",
      "乳酸菌混合粉 desc\n",
      "椰菜萃取物 desc\n",
      "南瓜萃取物 desc\n",
      "青瓜萃取物 desc\n",
      "酸度調節劑 desc\n",
      "調味劑 desc\n",
      "植物 desc\n",
      "益生菌 breadcrumbs\n",
      "益生菌 desc\n",
      "益生菌 name\n",
      "免疫防禦能力 desc\n",
      "腸道敏感 desc\n",
      "排便 desc\n",
      "青椒萃取物 desc\n",
      "紅菜頭萃取物 desc\n",
      "西蘭花萃取物 desc\n",
      "香芹萃取物 desc\n",
      "羽衣甘藍萃取物 desc\n",
      "瑞士 desc\n",
      "兒童腸胃 desc\n",
      "ii desc\n",
      "香橙濃縮粉 desc\n",
      "抗氧化劑 desc\n",
      "馬鈴薯澱粉 desc\n",
      "i desc\n",
      "腸道健康 desc\n",
      "葡萄糖 desc\n",
      "木糖醇 desc\n",
      "單位 desc\n",
      "澱粉糖漿 desc\n",
      "鼠李糖乳桿菌 desc\n",
      "加工棕櫚油 desc\n",
      "甘藍萃取物 desc\n",
      "蔬菜混合萃取物粉 desc\n",
      "牛初乳粉 desc\n",
      "麥芽 desc\n",
      "甘油脂肪酸酯 desc\n",
      "白鈉 desc\n",
      "果糖 desc\n",
      "萃取物粉 desc\n",
      "鹽酸吡哆辛 desc\n",
      "鹽酸硫胺 desc\n",
      "核黃素 desc\n",
      "岐 desc\n",
      "唾液 desc\n",
      "陰涼處 desc\n",
      "水芹菜 desc\n",
      "澱粉 desc\n",
      "流質食物 desc\n",
      "牛奶 desc\n",
      "紅椒 desc\n",
      "氧化鋅 desc\n",
      "馬鈴薯 desc\n",
      "飲用水 desc\n",
      "蔬菜 desc\n",
      "韓國 desc\n",
      "氧化劑 desc\n",
      "12 breadcrumbs\n",
      "12 desc\n",
      "12 name\n",
      "100億 desc\n",
      "331 desc\n",
      "340 desc\n",
      "452 desc\n",
      "460 desc\n",
      "551 desc\n",
      "330 desc\n",
      "30 breadcrumbs\n",
      "30 desc\n",
      "30 name\n",
      "25 desc\n",
      "1 breadcrumbs\n",
      "1 desc\n",
      "1 name\n",
      "2 id\n",
      "2 breadcrumbs\n",
      "2 desc\n",
      "2 name\n",
      "2 price\n",
      "10 desc\n",
      "兩 desc\n"
     ]
    }
   ],
   "source": [
    "utils.show_tags_place(filter_tags,product)"
   ],
   "metadata": {
    "collapsed": false,
    "pycharm": {
     "name": "#%%\n"
    }
   }
  },
  {
   "cell_type": "markdown",
   "source": [
    "# 出現頻率前15高的詞\n",
    "<font color='yellow'>未做任何過濾</font>"
   ],
   "metadata": {
    "collapsed": false
   }
  },
  {
   "cell_type": "code",
   "execution_count": 27,
   "outputs": [
    {
     "name": "stdout",
     "output_type": "stream",
     "text": [
      "萃取物 18\n",
      "乳桿菌 16\n",
      "2 10\n",
      "1 9\n",
      "兒童 6\n",
      "益生菌 5\n",
      "i 5\n",
      "12 5\n",
      "乾酪乳桿菌 4\n",
      "雙歧桿菌 4\n",
      "岐 4\n",
      "30 4\n",
      "植物 3\n",
      "副乾酪乳桿菌 2\n",
      "瑞士乳桿菌 2\n"
     ]
    }
   ],
   "source": [
    "utils.filter_rk(filter_tags,product)"
   ],
   "metadata": {
    "collapsed": false,
    "pycharm": {
     "name": "#%%\n"
    }
   }
  },
  {
   "cell_type": "markdown",
   "source": [
    "<font color=\"yellow\">問題：</font>\n",
    "1.純數字(如：1、2)，不具有任何意義\n",
    "2.斷句時產生的單字(如：i、岐)，不是沒有意義，就是與原本詞的意義差距甚大\n",
    "<font color=\"yellow\">改善方式：</font>\n",
    "藉由過濾上述即可改善兩種狀況"
   ],
   "metadata": {
    "collapsed": false,
    "pycharm": {
     "name": "#%% md\n"
    }
   }
  },
  {
   "cell_type": "markdown",
   "source": [
    "# 過濾掉 數字"
   ],
   "metadata": {
    "collapsed": false,
    "pycharm": {
     "name": "#%% md\n"
    }
   }
  },
  {
   "cell_type": "code",
   "execution_count": 28,
   "outputs": [
    {
     "data": {
      "text/plain": "['芒果萃取物',\n '香蕉萃取物',\n '香橙萃取物',\n '百香果萃取物',\n '番石榴萃取物',\n '萃取物',\n '乳桿菌',\n '乾酪乳桿菌',\n '副乾酪乳桿菌',\n '瑞士乳桿菌',\n '植物乳桿菌',\n '唾液乳桿菌',\n '嗜酸乳桿菌',\n '雙歧桿菌',\n '雙岐桿菌',\n '兒童',\n '奶油粉',\n '乳化劑',\n '水果混合萃取物粉',\n '乳酸菌混合粉',\n '椰菜萃取物',\n '南瓜萃取物',\n '青瓜萃取物',\n '酸度調節劑',\n '調味劑',\n '植物',\n '益生菌',\n '免疫防禦能力',\n '腸道敏感',\n '排便',\n '青椒萃取物',\n '紅菜頭萃取物',\n '西蘭花萃取物',\n '香芹萃取物',\n '羽衣甘藍萃取物',\n '瑞士',\n '兒童腸胃',\n 'ii',\n '香橙濃縮粉',\n '抗氧化劑',\n '馬鈴薯澱粉',\n 'i',\n '腸道健康',\n '葡萄糖',\n '木糖醇',\n '單位',\n '澱粉糖漿',\n '鼠李糖乳桿菌',\n '加工棕櫚油',\n '甘藍萃取物',\n '蔬菜混合萃取物粉',\n '牛初乳粉',\n '麥芽',\n '甘油脂肪酸酯',\n '白鈉',\n '果糖',\n '萃取物粉',\n '鹽酸吡哆辛',\n '鹽酸硫胺',\n '核黃素',\n '岐',\n '唾液',\n '陰涼處',\n '水芹菜',\n '澱粉',\n '流質食物',\n '牛奶',\n '紅椒',\n '氧化鋅',\n '馬鈴薯',\n '飲用水',\n '蔬菜',\n '韓國',\n '氧化劑',\n '12',\n '100億',\n '331',\n '340',\n '452',\n '460',\n '551',\n '330',\n '30',\n '25',\n '1',\n '2',\n '10',\n '兩']"
     },
     "execution_count": 28,
     "metadata": {},
     "output_type": "execute_result"
    }
   ],
   "source": [
    "filter_tags"
   ],
   "metadata": {
    "collapsed": false,
    "pycharm": {
     "name": "#%%\n"
    }
   }
  },
  {
   "cell_type": "code",
   "execution_count": 29,
   "outputs": [
    {
     "data": {
      "text/plain": "['芒果萃取物',\n '香蕉萃取物',\n '香橙萃取物',\n '百香果萃取物',\n '番石榴萃取物',\n '萃取物',\n '乳桿菌',\n '乾酪乳桿菌',\n '副乾酪乳桿菌',\n '瑞士乳桿菌',\n '植物乳桿菌',\n '唾液乳桿菌',\n '嗜酸乳桿菌',\n '雙歧桿菌',\n '雙岐桿菌',\n '兒童',\n '奶油粉',\n '乳化劑',\n '水果混合萃取物粉',\n '乳酸菌混合粉',\n '椰菜萃取物',\n '南瓜萃取物',\n '青瓜萃取物',\n '酸度調節劑',\n '調味劑',\n '植物',\n '益生菌',\n '免疫防禦能力',\n '腸道敏感',\n '排便',\n '青椒萃取物',\n '紅菜頭萃取物',\n '西蘭花萃取物',\n '香芹萃取物',\n '羽衣甘藍萃取物',\n '瑞士',\n '兒童腸胃',\n 'ii',\n '香橙濃縮粉',\n '抗氧化劑',\n '馬鈴薯澱粉',\n 'i',\n '腸道健康',\n '葡萄糖',\n '木糖醇',\n '單位',\n '澱粉糖漿',\n '鼠李糖乳桿菌',\n '加工棕櫚油',\n '甘藍萃取物',\n '蔬菜混合萃取物粉',\n '牛初乳粉',\n '麥芽',\n '甘油脂肪酸酯',\n '白鈉',\n '果糖',\n '萃取物粉',\n '鹽酸吡哆辛',\n '鹽酸硫胺',\n '核黃素',\n '岐',\n '唾液',\n '陰涼處',\n '水芹菜',\n '澱粉',\n '流質食物',\n '牛奶',\n '紅椒',\n '氧化鋅',\n '馬鈴薯',\n '飲用水',\n '蔬菜',\n '韓國',\n '氧化劑',\n '兩']"
     },
     "execution_count": 29,
     "metadata": {},
     "output_type": "execute_result"
    }
   ],
   "source": [
    "fr1=utils.filter_pattern_regex(filter_tags)\n",
    "utils.filter_pattern_regex(filter_tags)"
   ],
   "metadata": {
    "collapsed": false,
    "pycharm": {
     "name": "#%%\n"
    }
   }
  },
  {
   "cell_type": "markdown",
   "source": [
    "# 過濾掉 單字"
   ],
   "metadata": {
    "collapsed": false,
    "pycharm": {
     "name": "#%% md\n"
    }
   }
  },
  {
   "cell_type": "code",
   "execution_count": 30,
   "outputs": [
    {
     "data": {
      "text/plain": "['芒果萃取物',\n '香蕉萃取物',\n '香橙萃取物',\n '百香果萃取物',\n '番石榴萃取物',\n '萃取物',\n '乳桿菌',\n '乾酪乳桿菌',\n '副乾酪乳桿菌',\n '瑞士乳桿菌',\n '植物乳桿菌',\n '唾液乳桿菌',\n '嗜酸乳桿菌',\n '雙歧桿菌',\n '雙岐桿菌',\n '兒童',\n '奶油粉',\n '乳化劑',\n '水果混合萃取物粉',\n '乳酸菌混合粉',\n '椰菜萃取物',\n '南瓜萃取物',\n '青瓜萃取物',\n '酸度調節劑',\n '調味劑',\n '植物',\n '益生菌',\n '免疫防禦能力',\n '腸道敏感',\n '排便',\n '青椒萃取物',\n '紅菜頭萃取物',\n '西蘭花萃取物',\n '香芹萃取物',\n '羽衣甘藍萃取物',\n '瑞士',\n '兒童腸胃',\n 'ii',\n '香橙濃縮粉',\n '抗氧化劑',\n '馬鈴薯澱粉',\n '腸道健康',\n '葡萄糖',\n '木糖醇',\n '單位',\n '澱粉糖漿',\n '鼠李糖乳桿菌',\n '加工棕櫚油',\n '甘藍萃取物',\n '蔬菜混合萃取物粉',\n '牛初乳粉',\n '麥芽',\n '甘油脂肪酸酯',\n '白鈉',\n '果糖',\n '萃取物粉',\n '鹽酸吡哆辛',\n '鹽酸硫胺',\n '核黃素',\n '唾液',\n '陰涼處',\n '水芹菜',\n '澱粉',\n '流質食物',\n '牛奶',\n '紅椒',\n '氧化鋅',\n '馬鈴薯',\n '飲用水',\n '蔬菜',\n '韓國',\n '氧化劑']"
     },
     "execution_count": 30,
     "metadata": {},
     "output_type": "execute_result"
    }
   ],
   "source": [
    "fr2=utils.filter_row(fr1)\n",
    "utils.filter_row(fr1)"
   ],
   "metadata": {
    "collapsed": false,
    "pycharm": {
     "name": "#%%\n"
    }
   }
  },
  {
   "cell_type": "markdown",
   "source": [
    "# 出現頻率前15高的詞\n",
    "<font color='yellow'>已過濾出數字跟單字</font>"
   ],
   "metadata": {
    "collapsed": false,
    "pycharm": {
     "name": "#%% md\n"
    }
   }
  },
  {
   "cell_type": "code",
   "execution_count": 31,
   "outputs": [
    {
     "name": "stdout",
     "output_type": "stream",
     "text": [
      "萃取物 18\n",
      "乳桿菌 16\n",
      "兒童 6\n",
      "益生菌 5\n",
      "乾酪乳桿菌 4\n",
      "雙歧桿菌 4\n",
      "植物 3\n",
      "副乾酪乳桿菌 2\n",
      "瑞士乳桿菌 2\n",
      "植物乳桿菌 2\n",
      "唾液乳桿菌 2\n",
      "嗜酸乳桿菌 2\n",
      "雙岐桿菌 2\n",
      "乳化劑 2\n",
      "椰菜萃取物 2\n"
     ]
    }
   ],
   "source": [
    "utils.filter_rk(fr2,product)"
   ],
   "metadata": {
    "collapsed": false,
    "pycharm": {
     "name": "#%%\n"
    }
   }
  },
  {
   "cell_type": "markdown",
   "source": [
    "<font color=\"yellow\">改善後狀況：</font>\n",
    "過濾數字跟單字後，以改善上述的問題\n",
    "<font color=\"yellow\">問題：</font>\n",
    "1.同意詞或是錯別字的使用，會導致平率被稀釋\n",
    "如：雙<font color=\"yellow\">岐</font>桿菌 和 雙<font color=\"yellow\">歧</font>桿菌，兩詞同意都是雙歧桿菌\n",
    "2.單詞為獨立出現在文中，皆是出現在較長單詞中，且其單詞和包含期的單詞性質差異較大，難與商品產生關連\n",
    "如：植物，文中植物僅出現在 <font color=\"yellow\">植物</font>乳桿菌 和 <font color=\"yellow\">植物</font>性奶油粉，無獨立出現<font color=\"yellow\">植物</font>單詞\n",
    "<font color=\"yellow\">改善方法：</font>\n",
    "1.針對同意詞或錯別字，目前可能得先手動去做調整\n",
    "2.對於單詞無獨立出現，目前可以增加至stopwords，以過濾掉指定的詞\n",
    "(如：乳桿菌、萃取物，這兩個詞都是以XXX乳桿菌、XXX萃取物形式出現，和原本詞意相近，可以視情況決定是否要加入stopwords"
   ],
   "metadata": {
    "collapsed": false,
    "pycharm": {
     "name": "#%% md\n"
    }
   }
  },
  {
   "cell_type": "markdown",
   "source": [
    "# 過濾掉stopwords\n",
    "(將詞彙新增至filter.txt)\n",
    "(目前過濾：植物、瑞士)"
   ],
   "metadata": {
    "collapsed": false,
    "pycharm": {
     "name": "#%% md\n"
    }
   }
  },
  {
   "cell_type": "code",
   "execution_count": 32,
   "outputs": [
    {
     "data": {
      "text/plain": "['芒果萃取物',\n '香蕉萃取物',\n '香橙萃取物',\n '百香果萃取物',\n '番石榴萃取物',\n '萃取物',\n '乳桿菌',\n '乾酪乳桿菌',\n '副乾酪乳桿菌',\n '唾液乳桿菌',\n '嗜酸乳桿菌',\n '雙歧桿菌',\n '雙岐桿菌',\n '兒童',\n '奶油粉',\n '乳化劑',\n '水果混合萃取物粉',\n '乳酸菌混合粉',\n '椰菜萃取物',\n '南瓜萃取物',\n '青瓜萃取物',\n '酸度調節劑',\n '調味劑',\n '益生菌',\n '免疫防禦能力',\n '腸道敏感',\n '排便',\n '青椒萃取物',\n '紅菜頭萃取物',\n '西蘭花萃取物',\n '香芹萃取物',\n '羽衣甘藍萃取物',\n '兒童腸胃',\n 'ii',\n '香橙濃縮粉',\n '抗氧化劑',\n '馬鈴薯澱粉',\n '腸道健康',\n '葡萄糖',\n '木糖醇',\n '單位',\n '澱粉糖漿',\n '鼠李糖乳桿菌',\n '加工棕櫚油',\n '甘藍萃取物',\n '蔬菜混合萃取物粉',\n '牛初乳粉',\n '麥芽',\n '甘油脂肪酸酯',\n '白鈉',\n '果糖',\n '萃取物粉',\n '鹽酸吡哆辛',\n '鹽酸硫胺',\n '核黃素',\n '唾液',\n '陰涼處',\n '水芹菜',\n '澱粉',\n '流質食物',\n '牛奶',\n '紅椒',\n '氧化鋅',\n '馬鈴薯',\n '飲用水',\n '蔬菜',\n '韓國',\n '氧化劑']"
     },
     "execution_count": 32,
     "metadata": {},
     "output_type": "execute_result"
    }
   ],
   "source": [
    "fr3 = utils.filter_by_file(fr2)\n",
    "utils.filter_by_file(fr2)"
   ],
   "metadata": {
    "collapsed": false,
    "pycharm": {
     "name": "#%%\n"
    }
   }
  },
  {
   "cell_type": "markdown",
   "source": [
    "# 出現頻率前15高的詞\n",
    "<font color='yellow'>已過濾出數字跟單字</font>\n",
    "<font color='yellow'>已過濾出指定詞彙(植物)</font>\n",
    "<font color='yellow'>手動修正錯別字(雙岐桿菌->雙歧桿菌)</font>"
   ],
   "metadata": {
    "collapsed": false,
    "pycharm": {
     "name": "#%% md\n"
    }
   }
  },
  {
   "cell_type": "code",
   "execution_count": 33,
   "outputs": [
    {
     "name": "stdout",
     "output_type": "stream",
     "text": [
      "萃取物 18\n",
      "乳桿菌 16\n",
      "兒童 6\n",
      "雙岐桿菌 6\n",
      "益生菌 5\n",
      "乾酪乳桿菌 4\n",
      "副乾酪乳桿菌 2\n",
      "唾液乳桿菌 2\n",
      "嗜酸乳桿菌 2\n",
      "乳化劑 2\n",
      "椰菜萃取物 2\n",
      "免疫防禦能力 2\n",
      "排便 2\n",
      "鼠李糖乳桿菌 2\n",
      "萃取物粉 2\n"
     ]
    }
   ],
   "source": [
    "utils.filter_rk1(fr3,product)"
   ],
   "metadata": {
    "collapsed": false,
    "pycharm": {
     "name": "#%%\n"
    }
   }
  },
  {
   "cell_type": "markdown",
   "source": [
    "<font color=\"yellow\">改善後狀況：</font>\n",
    "過濾指定詞彙跟手動修正錯別字\n",
    "<font color=\"yellow\">問題：</font>\n",
    "1.指定詞彙新增至stopwords，且可能會影響至其他商品\n",
    "若於這篇愈過濾的詞加入stopwords，別篇在過濾時，會一併過濾掉\n",
    "如：植物，對此商品而言，是關聯度極低的詞彙\n",
    "但<font color='yellow'>植物</font>對於其他商品的關聯度高低是不得而知的\n",
    "若是低則可提升結果的準確率，反之，則降低準確率\n",
    "2.對於錯別字和同義詞兩者，對於判斷兩詞是否為錯別字和同意詞的難度很高\n",
    "但其結果可以泛用至所有商品\n",
    "<font color=\"yellow\">改善目標：</font>\n",
    "1.可以讓性質較相近的商品共用同一份stopwords\n",
    "理論上加入的stopwords，都和這類商品的關聯度較低，使得準確率提升\n",
    "2.兩詞是否為錯別字或同義詞，目前可能只能由人工判別"
   ],
   "metadata": {
    "collapsed": false,
    "pycharm": {
     "name": "#%% md\n"
    }
   }
  }
 ],
 "metadata": {
  "kernelspec": {
   "display_name": "Python 3",
   "language": "python",
   "name": "python3"
  },
  "language_info": {
   "codemirror_mode": {
    "name": "ipython",
    "version": 2
   },
   "file_extension": ".py",
   "mimetype": "text/x-python",
   "name": "python",
   "nbconvert_exporter": "python",
   "pygments_lexer": "ipython2",
   "version": "2.7.6"
  }
 },
 "nbformat": 4,
 "nbformat_minor": 0
}