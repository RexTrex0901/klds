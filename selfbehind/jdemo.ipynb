{
 "cells": [
  {
   "cell_type": "code",
   "execution_count": 1,
   "metadata": {
    "collapsed": true
   },
   "outputs": [
    {
     "data": {
      "text/plain": "<module 'utils' from 'D:\\\\Pycharm\\\\python01\\\\utils.py'>"
     },
     "execution_count": 1,
     "metadata": {},
     "output_type": "execute_result"
    }
   ],
   "source": [
    "import importlib\n",
    "import re\n",
    "\n",
    "import utils\n",
    "import models\n",
    "\n",
    "importlib.reload(utils)\n"
   ]
  },
  {
   "cell_type": "markdown",
   "source": [
    "# 取得 excel 資料"
   ],
   "metadata": {
    "collapsed": false,
    "pycharm": {
     "name": "#%% md\n"
    }
   }
  },
  {
   "cell_type": "code",
   "execution_count": 2,
   "outputs": [],
   "source": [
    "df = utils.get_xlsx()"
   ],
   "metadata": {
    "collapsed": false,
    "pycharm": {
     "name": "#%%\n"
    }
   }
  },
  {
   "cell_type": "markdown",
   "source": [
    "# 爬蟲資料 Filter"
   ],
   "metadata": {
    "collapsed": false,
    "pycharm": {
     "name": "#%% md\n"
    }
   }
  },
  {
   "cell_type": "code",
   "execution_count": 3,
   "outputs": [],
   "source": [
    "product_id = '802969'"
   ],
   "metadata": {
    "collapsed": false,
    "pycharm": {
     "name": "#%%\n"
    }
   }
  },
  {
   "cell_type": "code",
   "execution_count": 4,
   "outputs": [
    {
     "data": {
      "text/plain": "['芒果萃取物',\n '香蕉萃取物',\n '香橙萃取物',\n '百香果萃取物',\n '番石榴萃取物',\n '萃取物',\n '乳桿菌',\n '乾酪乳桿菌',\n '副乾酪乳桿菌',\n '瑞士乳桿菌',\n '植物乳桿菌',\n 'informativetext1',\n '唾液乳桿菌',\n '嗜酸乳桿菌',\n '雙歧桿菌',\n '雙岐桿菌',\n '兒童',\n '奶油粉',\n '乳化劑',\n '水果混合萃取物粉',\n '乳酸菌混合粉',\n '椰菜萃取物',\n '南瓜萃取物',\n '青瓜萃取物',\n '酸度調節劑',\n '調味劑',\n '植物',\n '益生菌',\n '免疫防禦能力',\n '腸道敏感',\n '排便',\n '青椒萃取物',\n '紅菜頭萃取物',\n '西蘭花萃取物',\n '香芹萃取物',\n '羽衣甘藍萃取物',\n '瑞士',\n '青椒萃取物丶紅菜頭萃取物',\n '兒童腸胃',\n 'ingredients',\n 'ii',\n '香橙濃縮粉',\n '抗氧化劑',\n '馬鈴薯澱粉',\n 'i',\n '腸道健康',\n '葡萄糖',\n '木糖醇',\n '單位',\n '澱粉糖漿',\n '鼠李糖乳桿菌',\n '脫脂奶粉',\n '加工棕櫚油',\n '萃取物丶番石榴萃取物',\n '南瓜萃取物丶椰菜萃取物丶水芹菜萃取物',\n '甘藍萃取物',\n '萃取物丶紅椒萃取物',\n '蔬菜混合萃取物粉',\n '牛初乳粉',\n '麥芽',\n '甘油脂肪酸酯',\n 'lactobacillus plantarum',\n '白鈉',\n '果糖',\n 'red pepper extract',\n 'green pepper extract',\n 'parsley extract',\n 'broccoli extract',\n 'kale extract',\n 'red beet extract',\n 'buttercup extract',\n 'cabbage extract',\n 'sweet pumpkin extract',\n 'cucumber extract',\n '酪蛋白鈉丶乳化劑',\n '果糖丶調味劑',\n 'bifidobacterium bifidum',\n '抗壞血酸〉丶牛初乳粉',\n '萃取物粉',\n 'storagecondition',\n 'informativetext1 strengthen gastrointestinal health.',\n 'lactobacillus mixed powder',\n 'packsize 30',\n 'lactobacillus acidophilus',\n 'uses',\n '鹽酸吡哆辛',\n '鹽酸硫胺',\n '核黃素',\n '丶氧化鋅丶鹽酸吡哆辛丶核黃素丶鹽酸硫胺',\n '岐',\n '唾液',\n '陰涼處',\n '水芹菜',\n 'informativetext3 korea',\n 'informativetext3',\n 'lactobacillus casei',\n '澱粉',\n '水丶牛奶',\n '流質食物',\n '牛奶',\n '紅椒',\n '氧化鋅',\n 'lactobacillus fermentum',\n 'bifidobacterium breve',\n 'lactobacillus salivarius',\n 'lactobacillus rhamnosus',\n 'and glycerin esters of fatty acids',\n '澱粉糖漿丶加工棕櫚油',\n 'mixed vegetable extract powder',\n 'mixed fruit extract',\n 'packsize 30 sachets',\n 'below 25',\n 'skim milk powder',\n '馬鈴薯',\n '飲用水',\n '蔬菜',\n 'acidity regulator',\n 'antioxidant',\n 'orange, mango',\n 'thiamine hydrochloride',\n 'relieve sensitivity and indigestion',\n 'each sachet contains: 12 kinds of probiotics: 10 billion cfu',\n '韓國',\n '氧化劑',\n 'sodium caseinate',\n 'colostrum powder',\n 'ascorbic acid',\n 'cauliflower extract',\n 'riboflavin',\n 'guava and banana',\n 'passionfruit',\n 'zinc oxide',\n 'pyridoxine hydrochloride',\n 'take 1-2 sachets directly daily',\n 'anticaking agent',\n 'lactobacillus helveticus and potato starch',\n 'lactobacillus paracasei',\n 'orange extract concentrated powder',\n 'emulsifier',\n 'starch syrup',\n 'vegetable cream powder',\n 'streptococcus thermophiles',\n 'bifidobacterium longum',\n 'flavor',\n 'fructooligosaccharide',\n 'dextrin',\n 'processed palm oil',\n 'xylitol',\n '12',\n '100億',\n '331',\n '340',\n '452',\n '460',\n '551',\n '330',\n '30',\n '25',\n '1',\n '2',\n '100亿',\n '10',\n '331340',\n '兩',\n '两']"
     },
     "execution_count": 4,
     "metadata": {},
     "output_type": "execute_result"
    }
   ],
   "source": [
    "target = utils.get_product_tags_by_id(df, product_id)\n",
    "tags = target['Tag'].to_list()\n",
    "tags"
   ],
   "metadata": {
    "collapsed": false,
    "pycharm": {
     "name": "#%%\n"
    }
   }
  },
  {
   "cell_type": "code",
   "execution_count": 5,
   "outputs": [],
   "source": [
    "product = utils.get_product_by_id(product_id)"
   ],
   "metadata": {
    "collapsed": false,
    "pycharm": {
     "name": "#%%\n"
    }
   }
  },
  {
   "cell_type": "code",
   "execution_count": 6,
   "outputs": [
    {
     "name": "stdout",
     "output_type": "stream",
     "text": [
      "lactobacillus paracasei\n",
      "green pepper extract\n",
      "uses\n",
      "两\n",
      "萃取物丶番石榴萃取物\n",
      "xylitol\n",
      "脫脂奶粉\n",
      "抗壞血酸〉丶牛初乳粉\n",
      "lactobacillus mixed powder\n",
      "acidity regulator\n",
      "relieve sensitivity and indigestion\n",
      "水丶牛奶\n",
      "萃取物丶紅椒萃取物\n",
      "antioxidant\n",
      "passionfruit\n",
      "100亿\n",
      "fructooligosaccharide\n",
      "kale extract\n",
      "orange, mango\n",
      "informativetext1 strengthen gastrointestinal health.\n",
      "lactobacillus rhamnosus\n",
      "processed palm oil\n",
      "informativetext1\n",
      "cabbage extract\n",
      "guava and banana\n",
      "each sachet contains: 12 kinds of probiotics: 10 billion cfu\n",
      "lactobacillus salivarius\n",
      "thiamine hydrochloride\n",
      "skim milk powder\n",
      "bifidobacterium bifidum\n",
      "starch syrup\n",
      "cucumber extract\n",
      "red beet extract\n",
      "informativetext3\n",
      "broccoli extract\n",
      "vegetable cream powder\n",
      "packsize 30 sachets\n",
      "buttercup extract\n",
      "果糖丶調味劑\n",
      "lactobacillus casei\n",
      "pyridoxine hydrochloride\n",
      "take 1-2 sachets directly daily\n",
      "flavor\n",
      "ingredients\n",
      "丶氧化鋅丶鹽酸吡哆辛丶核黃素丶鹽酸硫胺\n",
      "酪蛋白鈉丶乳化劑\n",
      "red pepper extract\n",
      "bifidobacterium breve\n",
      "lactobacillus acidophilus\n",
      "lactobacillus fermentum\n",
      "anticaking agent\n",
      "streptococcus thermophiles\n",
      "lactobacillus helveticus and potato starch\n",
      "331340\n",
      "mixed vegetable extract powder\n",
      "zinc oxide\n",
      "orange extract concentrated powder\n",
      "below 25\n",
      "cauliflower extract\n",
      "packsize 30\n",
      "dextrin\n",
      "emulsifier\n",
      "sweet pumpkin extract\n",
      "riboflavin\n",
      "colostrum powder\n",
      "informativetext3 korea\n",
      "ascorbic acid\n",
      "storagecondition\n",
      "lactobacillus plantarum\n",
      "bifidobacterium longum\n",
      "澱粉糖漿丶加工棕櫚油\n",
      "mixed fruit extract\n",
      "南瓜萃取物丶椰菜萃取物丶水芹菜萃取物\n",
      "青椒萃取物丶紅菜頭萃取物\n",
      "and glycerin esters of fatty acids\n",
      "sodium caseinate\n",
      "parsley extract\n"
     ]
    }
   ],
   "source": [
    "# display in\n",
    "context = product.context\n",
    "filter_tags = utils.get_tags_in_context(tags, context)\n",
    "utils.show_diff_tags(tags, filter_tags)"
   ],
   "metadata": {
    "collapsed": false,
    "pycharm": {
     "name": "#%%\n"
    }
   }
  },
  {
   "cell_type": "markdown",
   "source": [
    "# 顯示tag 在哪個欄位"
   ],
   "metadata": {
    "collapsed": false,
    "pycharm": {
     "name": "#%% md\n"
    }
   }
  },
  {
   "cell_type": "code",
   "execution_count": 7,
   "outputs": [
    {
     "name": "stdout",
     "output_type": "stream",
     "text": [
      "芒果萃取物 desc\n",
      "香蕉萃取物 desc\n",
      "香橙萃取物 desc\n",
      "百香果萃取物 desc\n",
      "番石榴萃取物 desc\n",
      "萃取物 desc\n",
      "乳桿菌 desc\n",
      "乾酪乳桿菌 desc\n",
      "副乾酪乳桿菌 desc\n",
      "瑞士乳桿菌 desc\n",
      "植物乳桿菌 desc\n",
      "唾液乳桿菌 desc\n",
      "嗜酸乳桿菌 desc\n",
      "雙歧桿菌 desc\n",
      "雙岐桿菌 desc\n",
      "兒童 breadcrumbs\n",
      "兒童 desc\n",
      "奶油粉 desc\n",
      "乳化劑 desc\n",
      "水果混合萃取物粉 desc\n",
      "乳酸菌混合粉 desc\n",
      "椰菜萃取物 desc\n",
      "南瓜萃取物 desc\n",
      "青瓜萃取物 desc\n",
      "酸度調節劑 desc\n",
      "調味劑 desc\n",
      "植物 desc\n",
      "益生菌 breadcrumbs\n",
      "益生菌 desc\n",
      "益生菌 name\n",
      "免疫防禦能力 desc\n",
      "腸道敏感 desc\n",
      "排便 desc\n",
      "青椒萃取物 desc\n",
      "紅菜頭萃取物 desc\n",
      "西蘭花萃取物 desc\n",
      "香芹萃取物 desc\n",
      "羽衣甘藍萃取物 desc\n",
      "瑞士 desc\n",
      "兒童腸胃 desc\n",
      "ii desc\n",
      "香橙濃縮粉 desc\n",
      "抗氧化劑 desc\n",
      "馬鈴薯澱粉 desc\n",
      "i desc\n",
      "腸道健康 desc\n",
      "葡萄糖 desc\n",
      "木糖醇 desc\n",
      "單位 desc\n",
      "澱粉糖漿 desc\n",
      "鼠李糖乳桿菌 desc\n",
      "加工棕櫚油 desc\n",
      "甘藍萃取物 desc\n",
      "蔬菜混合萃取物粉 desc\n",
      "牛初乳粉 desc\n",
      "麥芽 desc\n",
      "甘油脂肪酸酯 desc\n",
      "白鈉 desc\n",
      "果糖 desc\n",
      "萃取物粉 desc\n",
      "鹽酸吡哆辛 desc\n",
      "鹽酸硫胺 desc\n",
      "核黃素 desc\n",
      "岐 desc\n",
      "唾液 desc\n",
      "陰涼處 desc\n",
      "水芹菜 desc\n",
      "澱粉 desc\n",
      "流質食物 desc\n",
      "牛奶 desc\n",
      "紅椒 desc\n",
      "氧化鋅 desc\n",
      "馬鈴薯 desc\n",
      "飲用水 desc\n",
      "蔬菜 desc\n",
      "韓國 desc\n",
      "氧化劑 desc\n",
      "12 breadcrumbs\n",
      "12 desc\n",
      "12 name\n",
      "100億 desc\n",
      "331 desc\n",
      "340 desc\n",
      "452 desc\n",
      "460 desc\n",
      "551 desc\n",
      "330 desc\n",
      "30 breadcrumbs\n",
      "30 desc\n",
      "30 name\n",
      "25 desc\n",
      "1 breadcrumbs\n",
      "1 desc\n",
      "1 name\n",
      "1 price\n",
      "2 id\n",
      "2 breadcrumbs\n",
      "2 desc\n",
      "2 name\n",
      "10 desc\n",
      "兩 desc\n"
     ]
    }
   ],
   "source": [
    "utils.show_tags_place(filter_tags,product)"
   ],
   "metadata": {
    "collapsed": false,
    "pycharm": {
     "name": "#%%\n"
    }
   }
  },
  {
   "cell_type": "markdown",
   "source": [
    "# 過濾掉 數字"
   ],
   "metadata": {
    "collapsed": false,
    "pycharm": {
     "name": "#%% md\n"
    }
   }
  },
  {
   "cell_type": "code",
   "execution_count": 8,
   "outputs": [
    {
     "data": {
      "text/plain": "['芒果萃取物',\n '香蕉萃取物',\n '香橙萃取物',\n '百香果萃取物',\n '番石榴萃取物',\n '萃取物',\n '乳桿菌',\n '乾酪乳桿菌',\n '副乾酪乳桿菌',\n '瑞士乳桿菌',\n '植物乳桿菌',\n '唾液乳桿菌',\n '嗜酸乳桿菌',\n '雙歧桿菌',\n '雙岐桿菌',\n '兒童',\n '奶油粉',\n '乳化劑',\n '水果混合萃取物粉',\n '乳酸菌混合粉',\n '椰菜萃取物',\n '南瓜萃取物',\n '青瓜萃取物',\n '酸度調節劑',\n '調味劑',\n '植物',\n '益生菌',\n '免疫防禦能力',\n '腸道敏感',\n '排便',\n '青椒萃取物',\n '紅菜頭萃取物',\n '西蘭花萃取物',\n '香芹萃取物',\n '羽衣甘藍萃取物',\n '瑞士',\n '兒童腸胃',\n 'ii',\n '香橙濃縮粉',\n '抗氧化劑',\n '馬鈴薯澱粉',\n 'i',\n '腸道健康',\n '葡萄糖',\n '木糖醇',\n '單位',\n '澱粉糖漿',\n '鼠李糖乳桿菌',\n '加工棕櫚油',\n '甘藍萃取物',\n '蔬菜混合萃取物粉',\n '牛初乳粉',\n '麥芽',\n '甘油脂肪酸酯',\n '白鈉',\n '果糖',\n '萃取物粉',\n '鹽酸吡哆辛',\n '鹽酸硫胺',\n '核黃素',\n '岐',\n '唾液',\n '陰涼處',\n '水芹菜',\n '澱粉',\n '流質食物',\n '牛奶',\n '紅椒',\n '氧化鋅',\n '馬鈴薯',\n '飲用水',\n '蔬菜',\n '韓國',\n '氧化劑',\n '12',\n '100億',\n '331',\n '340',\n '452',\n '460',\n '551',\n '330',\n '30',\n '25',\n '1',\n '2',\n '10',\n '兩']"
     },
     "execution_count": 8,
     "metadata": {},
     "output_type": "execute_result"
    }
   ],
   "source": [
    "filter_tags"
   ],
   "metadata": {
    "collapsed": false,
    "pycharm": {
     "name": "#%%\n"
    }
   }
  },
  {
   "cell_type": "code",
   "execution_count": 9,
   "outputs": [
    {
     "data": {
      "text/plain": "['芒果萃取物',\n '香蕉萃取物',\n '香橙萃取物',\n '百香果萃取物',\n '番石榴萃取物',\n '萃取物',\n '乳桿菌',\n '乾酪乳桿菌',\n '副乾酪乳桿菌',\n '瑞士乳桿菌',\n '植物乳桿菌',\n '唾液乳桿菌',\n '嗜酸乳桿菌',\n '雙歧桿菌',\n '雙岐桿菌',\n '兒童',\n '奶油粉',\n '乳化劑',\n '水果混合萃取物粉',\n '乳酸菌混合粉',\n '椰菜萃取物',\n '南瓜萃取物',\n '青瓜萃取物',\n '酸度調節劑',\n '調味劑',\n '植物',\n '益生菌',\n '免疫防禦能力',\n '腸道敏感',\n '排便',\n '青椒萃取物',\n '紅菜頭萃取物',\n '西蘭花萃取物',\n '香芹萃取物',\n '羽衣甘藍萃取物',\n '瑞士',\n '兒童腸胃',\n 'ii',\n '香橙濃縮粉',\n '抗氧化劑',\n '馬鈴薯澱粉',\n 'i',\n '腸道健康',\n '葡萄糖',\n '木糖醇',\n '單位',\n '澱粉糖漿',\n '鼠李糖乳桿菌',\n '加工棕櫚油',\n '甘藍萃取物',\n '蔬菜混合萃取物粉',\n '牛初乳粉',\n '麥芽',\n '甘油脂肪酸酯',\n '白鈉',\n '果糖',\n '萃取物粉',\n '鹽酸吡哆辛',\n '鹽酸硫胺',\n '核黃素',\n '岐',\n '唾液',\n '陰涼處',\n '水芹菜',\n '澱粉',\n '流質食物',\n '牛奶',\n '紅椒',\n '氧化鋅',\n '馬鈴薯',\n '飲用水',\n '蔬菜',\n '韓國',\n '氧化劑',\n '兩']"
     },
     "execution_count": 9,
     "metadata": {},
     "output_type": "execute_result"
    }
   ],
   "source": [
    "utils.filter_pattern_regex(filter_tags)"
   ],
   "metadata": {
    "collapsed": false,
    "pycharm": {
     "name": "#%%\n"
    }
   }
  },
  {
   "cell_type": "markdown",
   "source": [
    "# 過濾掉filter.txt 的tags"
   ],
   "metadata": {
    "collapsed": false,
    "pycharm": {
     "name": "#%% md\n"
    }
   }
  },
  {
   "cell_type": "code",
   "execution_count": 10,
   "outputs": [
    {
     "data": {
      "text/plain": "['芒果萃取物',\n '香蕉萃取物',\n '香橙萃取物',\n '百香果萃取物',\n '番石榴萃取物',\n '萃取物',\n '乳桿菌',\n '乾酪乳桿菌',\n '副乾酪乳桿菌',\n '瑞士乳桿菌',\n '植物乳桿菌',\n '唾液乳桿菌',\n '嗜酸乳桿菌',\n '雙歧桿菌',\n '雙岐桿菌',\n '兒童',\n '奶油粉',\n '乳化劑',\n '水果混合萃取物粉',\n '乳酸菌混合粉',\n '椰菜萃取物',\n '南瓜萃取物',\n '青瓜萃取物',\n '酸度調節劑',\n '調味劑',\n '植物',\n '益生菌',\n '免疫防禦能力',\n '腸道敏感',\n '排便',\n '青椒萃取物',\n '紅菜頭萃取物',\n '西蘭花萃取物',\n '香芹萃取物',\n '羽衣甘藍萃取物',\n '瑞士',\n '兒童腸胃',\n 'ii',\n '香橙濃縮粉',\n '抗氧化劑',\n '馬鈴薯澱粉',\n 'i',\n '腸道健康',\n '葡萄糖',\n '木糖醇',\n '單位',\n '澱粉糖漿',\n '鼠李糖乳桿菌',\n '加工棕櫚油',\n '甘藍萃取物',\n '蔬菜混合萃取物粉',\n '牛初乳粉',\n '麥芽',\n '甘油脂肪酸酯',\n '白鈉',\n '果糖',\n '萃取物粉',\n '鹽酸吡哆辛',\n '鹽酸硫胺',\n '核黃素',\n '岐',\n '唾液',\n '陰涼處',\n '水芹菜',\n '澱粉',\n '流質食物',\n '牛奶',\n '紅椒',\n '氧化鋅',\n '馬鈴薯',\n '飲用水',\n '蔬菜',\n '韓國',\n '氧化劑',\n '兩']"
     },
     "execution_count": 10,
     "metadata": {},
     "output_type": "execute_result"
    }
   ],
   "source": [
    "utils.filter_by_file(utils.filter_pattern_regex(filter_tags))"
   ],
   "metadata": {
    "collapsed": false,
    "pycharm": {
     "name": "#%%\n"
    }
   }
  },
  {
   "cell_type": "markdown",
   "source": [
    "# 自定義tag詞性後加入至userdict.txt"
   ],
   "metadata": {
    "collapsed": false,
    "pycharm": {
     "name": "#%% md\n"
    }
   }
  },
  {
   "cell_type": "code",
   "execution_count": 11,
   "outputs": [
    {
     "name": "stderr",
     "output_type": "stream",
     "text": [
      "Building prefix dict from the default dictionary ...\n",
      "Loading model from cache C:\\Users\\obeli\\AppData\\Local\\Temp\\jieba.cache\n",
      "Loading model cost 0.597 seconds.\n",
      "Prefix dict has been built successfully.\n"
     ]
    }
   ],
   "source": [
    "utils.userdict_add(utils.filter_by_file(utils.filter_pattern_regex(filter_tags)))"
   ],
   "metadata": {
    "collapsed": false,
    "pycharm": {
     "name": "#%%\n"
    }
   }
  },
  {
   "cell_type": "markdown",
   "source": [
    "# 顯示詞性的tags"
   ],
   "metadata": {
    "collapsed": false,
    "pycharm": {
     "name": "#%% md\n"
    }
   }
  },
  {
   "cell_type": "code",
   "execution_count": 12,
   "outputs": [
    {
     "data": {
      "text/plain": "['芒果萃取物 n',\n '香蕉萃取物 n',\n '香橙萃取物 zg',\n '百香果萃取物 n',\n '番石榴萃取物 n',\n '萃取物 zg',\n '乳桿菌 n',\n '乾酪乳桿菌 n',\n '副乾酪乳桿菌 n',\n '瑞士乳桿菌 n',\n '植物乳桿菌 n',\n '唾液乳桿菌 n',\n '嗜酸乳桿菌 nz',\n '雙歧桿菌 n',\n '雙岐桿菌 n',\n '兒童 n',\n '奶油粉 n',\n '乳化劑 n',\n '水果混合萃取物粉 vn',\n '乳酸菌混合粉 n',\n '椰菜萃取物 n',\n '南瓜萃取物 zg',\n '青瓜萃取物 n',\n '酸度調節劑 vn',\n '調味劑 nz',\n '植物 n',\n '益生菌 nr',\n '免疫防禦能力 vn',\n '腸道敏感 n',\n '排便 v',\n '青椒萃取物 n',\n '紅菜頭萃取物 n',\n '西蘭花萃取物 n',\n '香芹萃取物 zg',\n '羽衣甘藍萃取物 n',\n '瑞士 ns',\n '兒童腸胃 n',\n 'ii eng',\n '香橙濃縮粉 n',\n '抗氧化劑 nz',\n '馬鈴薯澱粉 n',\n 'i x',\n '腸道健康 n',\n '葡萄糖 n',\n '木糖醇 n',\n '單位 n',\n '澱粉糖漿 vn',\n '鼠李糖乳桿菌 n',\n '加工棕櫚油 vn',\n '甘藍萃取物 zg',\n '蔬菜混合萃取物粉 vn',\n '牛初乳粉 n',\n '麥芽 nr',\n '甘油脂肪酸酯 n',\n '白鈉 nz',\n '果糖 n',\n '萃取物粉 vn',\n '鹽酸吡哆辛 nz',\n '鹽酸硫胺 nz',\n '核黃素 n',\n '岐 zg',\n '唾液 n',\n '陰涼處 v',\n '水芹菜 n',\n '澱粉 v',\n '流質食物 n',\n '牛奶 n',\n '紅椒 n',\n '氧化鋅 x',\n '馬鈴薯 n',\n '飲用水 n',\n '蔬菜 n',\n '韓國 ns',\n '氧化劑 x',\n '兩 zg']"
     },
     "execution_count": 12,
     "metadata": {},
     "output_type": "execute_result"
    }
   ],
   "source": [
    "utils.show_with_flag(utils.filter_by_file(utils.filter_pattern_regex(filter_tags)))"
   ],
   "metadata": {
    "collapsed": false,
    "pycharm": {
     "name": "#%%\n"
    }
   }
  }
 ],
 "metadata": {
  "kernelspec": {
   "display_name": "Python 3",
   "language": "python",
   "name": "python3"
  },
  "language_info": {
   "codemirror_mode": {
    "name": "ipython",
    "version": 2
   },
   "file_extension": ".py",
   "mimetype": "text/x-python",
   "name": "python",
   "nbconvert_exporter": "python",
   "pygments_lexer": "ipython2",
   "version": "2.7.6"
  }
 },
 "nbformat": 4,
 "nbformat_minor": 0
}