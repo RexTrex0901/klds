{
 "cells": [
  {
   "cell_type": "code",
   "execution_count": 2,
   "metadata": {
    "collapsed": true,
    "pycharm": {
     "name": "#%%\n"
    }
   },
   "outputs": [
    {
     "data": {
      "text/plain": "<module 'utils' from 'D:\\\\Pycharm\\\\python01\\\\utils.py'>"
     },
     "execution_count": 2,
     "metadata": {},
     "output_type": "execute_result"
    }
   ],
   "source": [
    "import importlib\n",
    "import re\n",
    "\n",
    "import utils\n",
    "import models\n",
    "\n",
    "importlib.reload(utils)"
   ]
  },
  {
   "cell_type": "markdown",
   "source": [
    "# 取得 excel 資料"
   ],
   "metadata": {
    "collapsed": false
   }
  },
  {
   "cell_type": "code",
   "execution_count": 3,
   "outputs": [],
   "source": [
    "df = utils.get_xlsx()"
   ],
   "metadata": {
    "collapsed": false,
    "pycharm": {
     "name": "#%%\n"
    }
   }
  },
  {
   "cell_type": "markdown",
   "source": [
    "# 爬蟲資料 Filter"
   ],
   "metadata": {
    "collapsed": false
   }
  },
  {
   "cell_type": "code",
   "execution_count": 4,
   "outputs": [],
   "source": [
    "product_id = '802969'"
   ],
   "metadata": {
    "collapsed": false,
    "pycharm": {
     "name": "#%%\n"
    }
   }
  },
  {
   "cell_type": "code",
   "execution_count": 5,
   "outputs": [
    {
     "data": {
      "text/plain": "['芒果萃取物',\n '香蕉萃取物',\n '香橙萃取物',\n '百香果萃取物',\n '番石榴萃取物',\n '萃取物',\n '乳桿菌',\n '乾酪乳桿菌',\n '副乾酪乳桿菌',\n '瑞士乳桿菌',\n '植物乳桿菌',\n 'informativetext1',\n '唾液乳桿菌',\n '嗜酸乳桿菌',\n '雙歧桿菌',\n '雙岐桿菌',\n '兒童',\n '奶油粉',\n '乳化劑',\n '水果混合萃取物粉',\n '乳酸菌混合粉',\n '椰菜萃取物',\n '南瓜萃取物',\n '青瓜萃取物',\n '酸度調節劑',\n '調味劑',\n '植物',\n '益生菌',\n '免疫防禦能力',\n '腸道敏感',\n '排便',\n '青椒萃取物',\n '紅菜頭萃取物',\n '西蘭花萃取物',\n '香芹萃取物',\n '羽衣甘藍萃取物',\n '瑞士',\n '青椒萃取物丶紅菜頭萃取物',\n '兒童腸胃',\n 'ingredients',\n 'ii',\n '香橙濃縮粉',\n '抗氧化劑',\n '馬鈴薯澱粉',\n 'i',\n '腸道健康',\n '葡萄糖',\n '木糖醇',\n '單位',\n '澱粉糖漿',\n '鼠李糖乳桿菌',\n '脫脂奶粉',\n '加工棕櫚油',\n '萃取物丶番石榴萃取物',\n '南瓜萃取物丶椰菜萃取物丶水芹菜萃取物',\n '甘藍萃取物',\n '萃取物丶紅椒萃取物',\n '蔬菜混合萃取物粉',\n '牛初乳粉',\n '麥芽',\n '甘油脂肪酸酯',\n 'lactobacillus plantarum',\n '白鈉',\n '果糖',\n 'red pepper extract',\n 'green pepper extract',\n 'parsley extract',\n 'broccoli extract',\n 'kale extract',\n 'red beet extract',\n 'buttercup extract',\n 'cabbage extract',\n 'sweet pumpkin extract',\n 'cucumber extract',\n '酪蛋白鈉丶乳化劑',\n '果糖丶調味劑',\n 'bifidobacterium bifidum',\n '抗壞血酸〉丶牛初乳粉',\n '萃取物粉',\n 'storagecondition',\n 'informativetext1 strengthen gastrointestinal health.',\n 'lactobacillus mixed powder',\n 'packsize 30',\n 'lactobacillus acidophilus',\n 'uses',\n '鹽酸吡哆辛',\n '鹽酸硫胺',\n '核黃素',\n '丶氧化鋅丶鹽酸吡哆辛丶核黃素丶鹽酸硫胺',\n '岐',\n '唾液',\n '陰涼處',\n '水芹菜',\n 'informativetext3 korea',\n 'informativetext3',\n 'lactobacillus casei',\n '澱粉',\n '水丶牛奶',\n '流質食物',\n '牛奶',\n '紅椒',\n '氧化鋅',\n 'lactobacillus fermentum',\n 'bifidobacterium breve',\n 'lactobacillus salivarius',\n 'lactobacillus rhamnosus',\n 'and glycerin esters of fatty acids',\n '澱粉糖漿丶加工棕櫚油',\n 'mixed vegetable extract powder',\n 'mixed fruit extract',\n 'packsize 30 sachets',\n 'below 25',\n 'skim milk powder',\n '馬鈴薯',\n '飲用水',\n '蔬菜',\n 'acidity regulator',\n 'antioxidant',\n 'orange, mango',\n 'thiamine hydrochloride',\n 'relieve sensitivity and indigestion',\n 'each sachet contains: 12 kinds of probiotics: 10 billion cfu',\n '韓國',\n '氧化劑',\n 'sodium caseinate',\n 'colostrum powder',\n 'ascorbic acid',\n 'cauliflower extract',\n 'riboflavin',\n 'guava and banana',\n 'passionfruit',\n 'zinc oxide',\n 'pyridoxine hydrochloride',\n 'take 1-2 sachets directly daily',\n 'anticaking agent',\n 'lactobacillus helveticus and potato starch',\n 'lactobacillus paracasei',\n 'orange extract concentrated powder',\n 'emulsifier',\n 'starch syrup',\n 'vegetable cream powder',\n 'streptococcus thermophiles',\n 'bifidobacterium longum',\n 'flavor',\n 'fructooligosaccharide',\n 'dextrin',\n 'processed palm oil',\n 'xylitol',\n '12',\n '100億',\n '331',\n '340',\n '452',\n '460',\n '551',\n '330',\n '30',\n '25',\n '1',\n '2',\n '100亿',\n '10',\n '331340',\n '兩',\n '两']"
     },
     "execution_count": 5,
     "metadata": {},
     "output_type": "execute_result"
    }
   ],
   "source": [
    "target = utils.get_product_tags_by_id(df, product_id)\n",
    "tags = target['Tag'].to_list()\n",
    "tags"
   ],
   "metadata": {
    "collapsed": false,
    "pycharm": {
     "name": "#%%\n"
    }
   }
  },
  {
   "cell_type": "code",
   "execution_count": 6,
   "outputs": [],
   "source": [
    "product = utils.get_product_by_id(product_id)"
   ],
   "metadata": {
    "collapsed": false,
    "pycharm": {
     "name": "#%%\n"
    }
   }
  },
  {
   "cell_type": "code",
   "execution_count": 7,
   "outputs": [
    {
     "name": "stdout",
     "output_type": "stream",
     "text": [
      "processed palm oil\n",
      "331340\n",
      "mixed vegetable extract powder\n",
      "buttercup extract\n",
      "informativetext1\n",
      "flavor\n",
      "脫脂奶粉\n",
      "parsley extract\n",
      "南瓜萃取物丶椰菜萃取物丶水芹菜萃取物\n",
      "lactobacillus salivarius\n",
      "kale extract\n",
      "uses\n",
      "streptococcus thermophiles\n",
      "萃取物丶紅椒萃取物\n",
      "ascorbic acid\n",
      "酪蛋白鈉丶乳化劑\n",
      "thiamine hydrochloride\n",
      "lactobacillus casei\n",
      "lactobacillus acidophilus\n",
      "水丶牛奶\n",
      "emulsifier\n",
      "take 1-2 sachets directly daily\n",
      "packsize 30 sachets\n",
      "lactobacillus plantarum\n",
      "cauliflower extract\n",
      "anticaking agent\n",
      "starch syrup\n",
      "orange, mango\n",
      "lactobacillus rhamnosus\n",
      "抗壞血酸〉丶牛初乳粉\n",
      "skim milk powder\n",
      "sweet pumpkin extract\n",
      "lactobacillus fermentum\n",
      "colostrum powder\n",
      "relieve sensitivity and indigestion\n",
      "zinc oxide\n",
      "vegetable cream powder\n",
      "red pepper extract\n",
      "antioxidant\n",
      "storagecondition\n",
      "dextrin\n",
      "red beet extract\n",
      "informativetext1 strengthen gastrointestinal health.\n",
      "packsize 30\n",
      "lactobacillus helveticus and potato starch\n",
      "green pepper extract\n",
      "broccoli extract\n",
      "果糖丶調味劑\n",
      "and glycerin esters of fatty acids\n",
      "guava and banana\n",
      "informativetext3 korea\n",
      "orange extract concentrated powder\n",
      "each sachet contains: 12 kinds of probiotics: 10 billion cfu\n",
      "acidity regulator\n",
      "ingredients\n",
      "lactobacillus paracasei\n",
      "丶氧化鋅丶鹽酸吡哆辛丶核黃素丶鹽酸硫胺\n",
      "fructooligosaccharide\n",
      "riboflavin\n",
      "xylitol\n",
      "sodium caseinate\n",
      "cabbage extract\n",
      "mixed fruit extract\n",
      "passionfruit\n",
      "萃取物丶番石榴萃取物\n",
      "bifidobacterium bifidum\n",
      "bifidobacterium longum\n",
      "澱粉糖漿丶加工棕櫚油\n",
      "两\n",
      "cucumber extract\n",
      "青椒萃取物丶紅菜頭萃取物\n",
      "below 25\n",
      "pyridoxine hydrochloride\n",
      "informativetext3\n",
      "100亿\n",
      "lactobacillus mixed powder\n",
      "bifidobacterium breve\n"
     ]
    }
   ],
   "source": [
    "# display in\n",
    "context = product.context\n",
    "filter_tags = utils.get_tags_in_context(tags, context)\n",
    "utils.show_diff_tags(tags, filter_tags)"
   ],
   "metadata": {
    "collapsed": false,
    "pycharm": {
     "name": "#%%\n"
    }
   }
  },
  {
   "cell_type": "markdown",
   "source": [
    "# fiter_tag 增加詞性\n",
    "(寫入userdict.txt作為紀錄)"
   ],
   "metadata": {
    "collapsed": false
   }
  },
  {
   "cell_type": "code",
   "execution_count": 8,
   "outputs": [
    {
     "name": "stderr",
     "output_type": "stream",
     "text": [
      "Building prefix dict from the default dictionary ...\n",
      "Loading model from cache C:\\Users\\obeli\\AppData\\Local\\Temp\\jieba.cache\n",
      "Loading model cost 0.631 seconds.\n",
      "Prefix dict has been built successfully.\n"
     ]
    }
   ],
   "source": [
    "utils.userdict_add(filter_tags)"
   ],
   "metadata": {
    "collapsed": false,
    "pycharm": {
     "name": "#%%\n"
    }
   }
  },
  {
   "cell_type": "markdown",
   "source": [
    "# 顯示新增的單詞和詞性\n",
    "n：名詞  nz：專有名詞   vn：動名詞   ns：地名   nr：人名\n",
    "zg：狀態語素   m：數字   x：單字母、單符號、單數字"
   ],
   "metadata": {
    "collapsed": false,
    "pycharm": {
     "name": "#%% md\n"
    }
   }
  },
  {
   "cell_type": "code",
   "execution_count": 9,
   "outputs": [
    {
     "data": {
      "text/plain": "['芒果萃取物 n',\n '香蕉萃取物 n',\n '香橙萃取物 zg',\n '百香果萃取物 n',\n '番石榴萃取物 n',\n '萃取物 zg',\n '乳桿菌 n',\n '乾酪乳桿菌 n',\n '副乾酪乳桿菌 n',\n '瑞士乳桿菌 n',\n '植物乳桿菌 n',\n '唾液乳桿菌 n',\n '嗜酸乳桿菌 nz',\n '雙歧桿菌 n',\n '雙岐桿菌 n',\n '兒童 n',\n '奶油粉 n',\n '乳化劑 n',\n '水果混合萃取物粉 vn',\n '乳酸菌混合粉 n',\n '椰菜萃取物 n',\n '南瓜萃取物 zg',\n '青瓜萃取物 n',\n '酸度調節劑 vn',\n '調味劑 nz',\n '植物 n',\n '益生菌 nr',\n '免疫防禦能力 vn',\n '腸道敏感 n',\n '排便 v',\n '青椒萃取物 n',\n '紅菜頭萃取物 n',\n '西蘭花萃取物 n',\n '香芹萃取物 zg',\n '羽衣甘藍萃取物 n',\n '瑞士 ns',\n '兒童腸胃 n',\n 'ii eng',\n '香橙濃縮粉 n',\n '抗氧化劑 nz',\n '馬鈴薯澱粉 n',\n 'i x',\n '腸道健康 n',\n '葡萄糖 n',\n '木糖醇 n',\n '單位 n',\n '澱粉糖漿 vn',\n '鼠李糖乳桿菌 n',\n '加工棕櫚油 vn',\n '甘藍萃取物 zg',\n '蔬菜混合萃取物粉 vn',\n '牛初乳粉 n',\n '麥芽 nr',\n '甘油脂肪酸酯 n',\n '白鈉 nz',\n '果糖 n',\n '萃取物粉 vn',\n '鹽酸吡哆辛 nz',\n '鹽酸硫胺 nz',\n '核黃素 n',\n '岐 zg',\n '唾液 n',\n '陰涼處 v',\n '水芹菜 n',\n '澱粉 v',\n '流質食物 n',\n '牛奶 n',\n '紅椒 n',\n '氧化鋅 x',\n '馬鈴薯 n',\n '飲用水 n',\n '蔬菜 n',\n '韓國 ns',\n '氧化劑 x',\n '12 m',\n '100億 m',\n '331 m',\n '340 m',\n '452 m',\n '460 m',\n '551 m',\n '330 m',\n '30 m',\n '25 m',\n '1 x',\n '2 x',\n '10 m',\n '兩 zg']"
     },
     "execution_count": 9,
     "metadata": {},
     "output_type": "execute_result"
    }
   ],
   "source": [
    "fwf=utils.show_with_flag(filter_tags)\n",
    "fwf"
   ],
   "metadata": {
    "collapsed": false,
    "pycharm": {
     "name": "#%%\n"
    }
   }
  },
  {
   "cell_type": "markdown",
   "source": [
    "# 出現頻率前15高的詞\n",
    "## (附帶詞性)\n",
    "<font color='yellow'>未做任何過濾</font>"
   ],
   "metadata": {
    "collapsed": false,
    "pycharm": {
     "name": "#%% md\n"
    }
   }
  },
  {
   "cell_type": "code",
   "execution_count": 10,
   "outputs": [
    {
     "name": "stdout",
     "output_type": "stream",
     "text": [
      "萃取物 18 zg\n",
      "乳桿菌 16 n\n",
      "2 10 x\n",
      "1 9 x\n",
      "兒童 6 n\n",
      "益生菌 5 nr\n",
      "i 5 x\n",
      "12 5 m\n",
      "乾酪乳桿菌 4 n\n",
      "雙歧桿菌 4 n\n",
      "岐 4 zg\n",
      "30 4 m\n",
      "植物 3 n\n",
      "副乾酪乳桿菌 2 n\n",
      "瑞士乳桿菌 2 n\n"
     ]
    }
   ],
   "source": [
    "utils.filter_rkwf(fwf,product)"
   ],
   "metadata": {
    "collapsed": false,
    "pycharm": {
     "name": "#%%\n"
    }
   }
  },
  {
   "cell_type": "markdown",
   "source": [
    "<font color=\"yellow\">問題：</font>\n",
    "1.詞性為x和m不是我們要的詞\n",
    "<font color=\"yellow\">改善方式：</font>\n",
    "藉由詞性的過濾改善問題"
   ],
   "metadata": {
    "collapsed": false,
    "pycharm": {
     "name": "#%% md\n"
    }
   }
  },
  {
   "cell_type": "markdown",
   "source": [
    "# 出現頻率前15高的詞\n",
    "## (附帶詞性)\n",
    "<font color=\"yellow\">過濾詞性 x 和 m</font>"
   ],
   "metadata": {
    "collapsed": false,
    "pycharm": {
     "name": "#%% md\n"
    }
   }
  },
  {
   "cell_type": "code",
   "execution_count": 11,
   "outputs": [
    {
     "name": "stdout",
     "output_type": "stream",
     "text": [
      "萃取物 18 zg\n",
      "乳桿菌 16 n\n",
      "兒童 6 n\n",
      "益生菌 5 nr\n",
      "乾酪乳桿菌 4 n\n",
      "雙歧桿菌 4 n\n",
      "岐 4 zg\n",
      "植物 3 n\n",
      "副乾酪乳桿菌 2 n\n",
      "瑞士乳桿菌 2 n\n",
      "植物乳桿菌 2 n\n",
      "唾液乳桿菌 2 n\n",
      "嗜酸乳桿菌 2 nz\n",
      "雙岐桿菌 2 n\n",
      "乳化劑 2 n\n"
     ]
    }
   ],
   "source": [
    "utils.filter_rkwfdf1(fwf,product)"
   ],
   "metadata": {
    "collapsed": false,
    "pycharm": {
     "name": "#%%\n"
    }
   }
  },
  {
   "cell_type": "markdown",
   "source": [
    "<font color=\"yellow\">改善後狀況：</font>\n",
    "用詞性可以快速濾掉不需要的詞性\n",
    "基本上留下來的都是詞性已n為主\n",
    "但仍有nz、nr、ns、vn、zg\n",
    "\n",
    "<font color=\"yellow\">問題：</font>\n",
    "1.像<font color=\"yellow\">唾液乳桿菌</font>詞性為n(名詞)，<font color=\"yellow\">嗜酸乳桿菌</font>詞性為nz(專有名詞)\n",
    "這兩個名詞的詞性理論上應改得是一樣的\n",
    "會造成差異的主要原因在於寫入字典時的判別式所造成的\n",
    "以此商品來說差影響性並不大\n",
    "但若能優化判別式進而準確的定義詞性\n",
    "對於詞性篩選可控制的條件會增加\n",
    "能更加有利的過濾出需要的詞彙\n",
    "\n",
    "2.而其中zg較為麻煩，文中可看到<font color=\"yellow\">岐</font>跟<font color=\"yellow\">萃取物</font>詞性都是zg\n",
    "通常zg都是單字才會有的詞性\n",
    "但萃取物變成zg應該也是在寫入時造成的\n",
    "這部分優化寫入字典時的判別式應該可以改善\n",
    "\n",
    "3.植物的詞性為n，仍無法藉由詞性過濾\n",
    "目前只能做手動加入stopword做刪除\n",
    "\n",
    "4.像是<font color=\"yellow\">雙歧桿菌</font>跟<font color=\"yellow\">雙岐桿菌</font>的錯別字\n",
    "亦是只能用手動作修正，無法藉由詞性來改正\n",
    "\n",
    "<font color=\"yellow\">總結：</font>\n",
    "整體看下來對於不使用詞性跟使用詞性過濾來看\n",
    "使用與否的差異不大\n",
    "但用詞性的複雜度會比較麻煩\n",
    "(因需要判定複合詞的詞性)\n",
    "但若能優化詞性的判別式\n",
    "來減少像上面<font color=\"yellow\">植物</font>因斷詞問題\n",
    "所產生和商品關聯性較低的詞彙\n",
    "或者可以將詞性定得更明確\n",
    "以利詞彙的過濾或篩選\n",
    "若能將詞彙都增設詞性\n",
    "用jieba的analyse做tf-idf的計算時\n",
    "針對複合式詞彙判定上會更為準確\n",
    "以提升tf-idf的結果"
   ],
   "metadata": {
    "collapsed": false,
    "pycharm": {
     "name": "#%% md\n"
    }
   }
  }
 ],
 "metadata": {
  "kernelspec": {
   "display_name": "Python 3",
   "language": "python",
   "name": "python3"
  },
  "language_info": {
   "codemirror_mode": {
    "name": "ipython",
    "version": 2
   },
   "file_extension": ".py",
   "mimetype": "text/x-python",
   "name": "python",
   "nbconvert_exporter": "python",
   "pygments_lexer": "ipython2",
   "version": "2.7.6"
  }
 },
 "nbformat": 4,
 "nbformat_minor": 0
}