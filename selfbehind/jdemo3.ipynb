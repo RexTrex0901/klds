{
 "cells": [
  {
   "cell_type": "code",
   "execution_count": 15,
   "metadata": {
    "collapsed": true,
    "pycharm": {
     "name": "#%%\n"
    }
   },
   "outputs": [
    {
     "data": {
      "text/plain": "<module 'utils' from 'D:\\\\Pycharm\\\\python01\\\\utils.py'>"
     },
     "execution_count": 15,
     "metadata": {},
     "output_type": "execute_result"
    }
   ],
   "source": [
    "import importlib\n",
    "import re\n",
    "\n",
    "import utils\n",
    "import models\n",
    "\n",
    "importlib.reload(utils)"
   ]
  },
  {
   "cell_type": "markdown",
   "source": [
    "# 取得 excel 資料"
   ],
   "metadata": {
    "collapsed": false
   }
  },
  {
   "cell_type": "code",
   "execution_count": 16,
   "outputs": [],
   "source": [
    "df = utils.get_xlsx()"
   ],
   "metadata": {
    "collapsed": false,
    "pycharm": {
     "name": "#%%\n"
    }
   }
  },
  {
   "cell_type": "markdown",
   "source": [
    "# 爬蟲資料 Filter"
   ],
   "metadata": {
    "collapsed": false
   }
  },
  {
   "cell_type": "code",
   "execution_count": 17,
   "outputs": [],
   "source": [
    "product_id = '802969'"
   ],
   "metadata": {
    "collapsed": false,
    "pycharm": {
     "name": "#%%\n"
    }
   }
  },
  {
   "cell_type": "code",
   "execution_count": 18,
   "outputs": [],
   "source": [
    "target = utils.get_product_tags_by_id(df, product_id)\n",
    "tags = target['Tag'].to_list()"
   ],
   "metadata": {
    "collapsed": false,
    "pycharm": {
     "name": "#%%\n"
    }
   }
  },
  {
   "cell_type": "code",
   "execution_count": 19,
   "outputs": [],
   "source": [
    "product = utils.get_product_by_id(product_id)"
   ],
   "metadata": {
    "collapsed": false,
    "pycharm": {
     "name": "#%%\n"
    }
   }
  },
  {
   "cell_type": "code",
   "execution_count": 20,
   "outputs": [],
   "source": [
    "# display in\n",
    "context = product.context\n",
    "filter_tags = utils.get_tags_in_context(tags, context)"
   ],
   "metadata": {
    "collapsed": false,
    "pycharm": {
     "name": "#%%\n"
    }
   }
  },
  {
   "cell_type": "code",
   "execution_count": 21,
   "outputs": [],
   "source": [
    "desc=str(product)"
   ],
   "metadata": {
    "collapsed": false,
    "pycharm": {
     "name": "#%%\n"
    }
   }
  },
  {
   "cell_type": "markdown",
   "source": [
    "# (新增詞性前)TF-IDF前15名結果"
   ],
   "metadata": {
    "collapsed": false,
    "pycharm": {
     "name": "#%% md\n"
    }
   }
  },
  {
   "cell_type": "code",
   "execution_count": 22,
   "outputs": [
    {
     "name": "stderr",
     "output_type": "stream",
     "text": [
      "Building prefix dict from the default dictionary ...\n",
      "Loading model from cache C:\\Users\\obeli\\AppData\\Local\\Temp\\jieba.cache\n",
      "Loading model cost 0.615 seconds.\n",
      "Prefix dict has been built successfully.\n"
     ]
    },
    {
     "name": "stdout",
     "output_type": "stream",
     "text": [
      "乳桿(1.224)\n",
      "桿菌(0.753)\n",
      "兒童(0.471)\n",
      "益生菌(0.416)\n",
      "乾酪(0.377)\n",
      "雙歧(0.377)\n",
      "香橙(0.208)\n",
      "卓營(0.188)\n",
      "腸道(0.188)\n",
      "鼠李糖(0.188)\n",
      "雙岐(0.188)\n",
      "熱鏈(0.188)\n",
      "物粉(0.188)\n",
      "球菌(0.164)\n",
      "小包(0.156)\n"
     ]
    }
   ],
   "source": [
    "utils.tfidf_count()"
   ],
   "metadata": {
    "collapsed": false,
    "pycharm": {
     "name": "#%%\n"
    }
   }
  },
  {
   "cell_type": "markdown",
   "source": [
    "# 將詞彙增添詞性"
   ],
   "metadata": {
    "collapsed": false
   }
  },
  {
   "cell_type": "code",
   "execution_count": 23,
   "outputs": [],
   "source": [
    "utils.userdict_add(filter_tags)"
   ],
   "metadata": {
    "collapsed": false,
    "pycharm": {
     "name": "#%%\n"
    }
   }
  },
  {
   "cell_type": "markdown",
   "source": [
    "# (新增詞性後)TF-IDF後15名結果"
   ],
   "metadata": {
    "collapsed": false,
    "pycharm": {
     "name": "#%% md\n"
    }
   }
  },
  {
   "cell_type": "code",
   "execution_count": 25,
   "outputs": [
    {
     "name": "stdout",
     "output_type": "stream",
     "text": [
      "益生菌(0.587)\n",
      "兒童(0.531)\n",
      "雙歧桿菌(0.531)\n",
      "卓營(0.266)\n",
      "植物乳桿菌(0.266)\n",
      "鼠李糖乳桿菌(0.266)\n",
      "乳桿菌(0.266)\n",
      "乾酪乳桿菌(0.266)\n",
      "唾液乳桿菌(0.266)\n",
      "雙岐桿菌(0.266)\n",
      "副乾酪乳桿菌(0.266)\n",
      "熱鏈(0.266)\n",
      "瑞士乳桿菌(0.266)\n",
      "乳化劑(0.266)\n",
      "椰菜萃取物(0.266)\n"
     ]
    }
   ],
   "source": [
    "utils.tfidf_count(desc)"
   ],
   "metadata": {
    "collapsed": false,
    "pycharm": {
     "name": "#%%\n"
    }
   }
  },
  {
   "cell_type": "markdown",
   "source": [
    "<font color=yellow>新增字典以後改善：</font>\n",
    "1.名詞斷句位置較為正確\n",
    "如：<font color=yellow>乳桿</font>，這詞對於這篇是完全沒有意義的，其原本皆為<font color=yellow>XX乳桿菌</font>\n",
    "新增字典前易斷詞斷在其他地方，新增後可以明確且有效的改善此問題\n",
    "2.較不會有段詞斷錯後造成錯意的部分\n",
    "如：<font color=yellow>香橙</font>，整篇敘述皆無香橙單獨出現，僅出現數次的<font color=yellow>香橙濃縮粉</font>，經字典修正後有明顯改善此問題\n",
    "3.像<font color=yellow>卓營</font>，是出自<font color=yellow>卓營方</font>品牌\n",
    "像品牌名的名詞，是可以事先寫入dict裡面，以直接改善品牌名稱被切字\n",
    "4.經增加詞性TF後的結果能讓TF-IDF的結果準確率大幅提升"
   ],
   "metadata": {
    "collapsed": false,
    "pycharm": {
     "name": "#%% md\n"
    }
   }
  }
 ],
 "metadata": {
  "kernelspec": {
   "display_name": "Python 3",
   "language": "python",
   "name": "python3"
  },
  "language_info": {
   "codemirror_mode": {
    "name": "ipython",
    "version": 2
   },
   "file_extension": ".py",
   "mimetype": "text/x-python",
   "name": "python",
   "nbconvert_exporter": "python",
   "pygments_lexer": "ipython2",
   "version": "2.7.6"
  }
 },
 "nbformat": 4,
 "nbformat_minor": 0
}